{
 "cells": [
  {
   "cell_type": "code",
   "execution_count": 5,
   "id": "9f7aac04-fce8-4cc5-afff-c8f051a8b2b6",
   "metadata": {},
   "outputs": [],
   "source": [
    "import json\n",
    "import os\n",
    "import pandas as pd"
   ]
  },
  {
   "cell_type": "markdown",
   "id": "abfeae2f-92e1-4259-840f-79062ccaef24",
   "metadata": {},
   "source": [
    "#### Generate the marginalization outputs"
   ]
  },
  {
   "cell_type": "code",
   "execution_count": 15,
   "id": "622dd541-f4e0-4ed0-9568-a12d9df39ef6",
   "metadata": {},
   "outputs": [],
   "source": [
    "output_dir = \"/home/li.mil/open-domain-mds-merge/open-mds/analysis/csv\""
   ]
  },
  {
   "cell_type": "code",
   "execution_count": 16,
   "id": "60415c76-7ad3-4836-87b5-f90b624f7019",
   "metadata": {},
   "outputs": [],
   "source": [
    "marginalization_outputs_1 = \"/home/li.mil/open-domain-mds-merge/open-mds/output/ms2_split=1/led-base/outputs.json\"\n",
    "marginalization_outputs_2 = \"/home/li.mil/open-domain-mds-merge/open-mds/output/ms2_split=2/led-base/outputs.json\"\n",
    "marginalization_outputs_3 = \"/home/li.mil/open-domain-mds-merge/open-mds/output/ms2_split=3/led-base/outputs.json\"\n",
    "marginalization_outputs_4 = \"/home/li.mil/open-domain-mds-merge/open-mds/output/ms2_split=4/led-base/outputs.json\"\n",
    "marginalization_outputs_5 = \"/home/li.mil/open-domain-mds-merge/open-mds/output/ms2_split=5/led-base/outputs.json\""
   ]
  },
  {
   "cell_type": "code",
   "execution_count": 17,
   "id": "d2fa013f-1762-4353-9a63-fcef210b8f9b",
   "metadata": {},
   "outputs": [],
   "source": [
    "path = \"/home/li.mil/open-domain-mds-merge/open-mds/output/ms2/led-base/retrieval/dense/mean/eval_results.json\"\n",
    "with open(path, \"r\") as f:\n",
    "    odmds_eval = json.load(f)"
   ]
  },
  {
   "cell_type": "code",
   "execution_count": 34,
   "id": "7d222dde-9dea-479e-8455-f83baa5db663",
   "metadata": {},
   "outputs": [],
   "source": [
    "for idx, split in enumerate([marginalization_outputs_1, marginalization_outputs_2, marginalization_outputs_3, marginalization_outputs_4, marginalization_outputs_5]):\n",
    "    with open(split, \"r\") as f:\n",
    "        output = json.load(f)\n",
    "\n",
    "    data = {\n",
    "        'ODMDS Baseline': odmds_eval['eval_preds'],\n",
    "        f'Split={idx + 1}': output['preds'],\n",
    "        'Target': odmds_eval['eval_labels'],\n",
    "        'ODMDS RougeL': odmds_eval['eval_rougeLsum_fmeasure'],\n",
    "        f'Split={idx + 1} RougeL': output['rougeLsum_fmeasure'],\n",
    "        'ODMDS BertScore': odmds_eval['eval_bertscore_f1'],\n",
    "        f'Split={idx + 1} BertScore': output['bertscore_f1'],\n",
    "    }\n",
    "    \n",
    "    df = pd.DataFrame(data=data)\n",
    "    df.to_csv(os.path.join(output_dir, f\"split={idx + 1}.csv\"))"
   ]
  },
  {
   "cell_type": "markdown",
   "id": "aed57917-f434-461f-aec3-8ea089f84f7e",
   "metadata": {},
   "source": [
    "#### Generate the cutoff outputs"
   ]
  },
  {
   "cell_type": "code",
   "execution_count": 25,
   "id": "1354b1ce-dab2-4838-8c43-b0e3db740279",
   "metadata": {},
   "outputs": [],
   "source": [
    "cutoff_10 = \"/home/li.mil/open-domain-mds-merge/open-mds/output/ms2_split=2_cutoff=10/led-base/outputs.json\"\n",
    "cutoff_20 = \"/home/li.mil/open-domain-mds-merge/open-mds/output/ms2_split=2_cutoff=20/led-base/outputs.json\"\n",
    "cutoff_30 = \"/home/li.mil/open-domain-mds-merge/open-mds/output/ms2_split=2_cutoff=30/led-base/outputs.json\"\n",
    "cutoff_40 = \"/home/li.mil/open-domain-mds-merge/open-mds/output/ms2_split=2_cutoff=40/led-base/outputs.json\"\n",
    "cutoff_50 = \"/home/li.mil/open-domain-mds-merge/open-mds/output/ms2_split=2_cutoff=50/led-base/outputs.json\""
   ]
  },
  {
   "cell_type": "code",
   "execution_count": 26,
   "id": "7a84fdb2-5485-4842-9c92-f8a7f867431d",
   "metadata": {},
   "outputs": [],
   "source": [
    "path = \"/home/li.mil/open-domain-mds-merge/open-mds/output/ms2/led-base/retrieval/dense/mean/eval_results.json\"\n",
    "with open(path, \"r\") as f:\n",
    "    odmds_eval = json.load(f)"
   ]
  },
  {
   "cell_type": "code",
   "execution_count": 27,
   "id": "a6d63d23-285b-4aef-8903-3905b05cb979",
   "metadata": {},
   "outputs": [],
   "source": [
    "for idx, split in enumerate([cutoff_10, cutoff_20, cutoff_30, cutoff_40, cutoff_50]):\n",
    "    with open(split, \"r\") as f:\n",
    "        output = json.load(f)\n",
    "        \n",
    "    data = {\n",
    "        'ODMDS Baseline': odmds_eval['eval_preds'],\n",
    "        f'Split=2_Cutoff={idx + 1}0': output['preds'],\n",
    "        'ODMDS RougeL': odmds_eval['eval_rougeLsum_fmeasure'],\n",
    "        f'Split=2_Cutoff={idx + 1}0 RougeL': output['rougeLsum_fmeasure'],\n",
    "        'ODMDS BertScore': odmds_eval['eval_bertscore_f1'],\n",
    "        f'Split=2_Cutoff={idx + 1}0 BertScore': output['bertscore_f1']\n",
    "    }\n",
    "    \n",
    "    df = pd.DataFrame(data=data)\n",
    "    df.to_csv(os.path.join(output_dir, f\"split=2_cutoff={idx + 1}0.csv\"))"
   ]
  }
 ],
 "metadata": {
  "kernelspec": {
   "display_name": "mds",
   "language": "python",
   "name": "mds"
  },
  "language_info": {
   "codemirror_mode": {
    "name": "ipython",
    "version": 3
   },
   "file_extension": ".py",
   "mimetype": "text/x-python",
   "name": "python",
   "nbconvert_exporter": "python",
   "pygments_lexer": "ipython3",
   "version": "3.9.17"
  }
 },
 "nbformat": 4,
 "nbformat_minor": 5
}
